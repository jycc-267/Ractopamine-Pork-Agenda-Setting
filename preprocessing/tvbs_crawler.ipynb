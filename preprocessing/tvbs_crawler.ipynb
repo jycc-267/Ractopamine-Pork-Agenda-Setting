{
 "cells": [
  {
   "cell_type": "code",
   "execution_count": 1,
   "id": "29521706-cd77-4597-8caf-794e4e916bbc",
   "metadata": {},
   "outputs": [],
   "source": [
    "import requests\n",
    "from bs4 import BeautifulSoup\n",
    "from fake_useragent import UserAgent\n",
    "from tomorrow import threads\n",
    "from datetime import datetime\n",
    "import time\n",
    "import re\n",
    "import random\n",
    "import pandas as pd"
   ]
  },
  {
   "cell_type": "code",
   "execution_count": 2,
   "id": "357ba810-6008-4ea9-8ad6-0b65a5a05ad3",
   "metadata": {},
   "outputs": [],
   "source": [
    "ua = UserAgent()\n",
    "headers = {'User-Agent': ua.random}\n",
    "# 'Mozilla/5.0 (Windows NT 10.0; Win64; x64) AppleWebKit/537.36 (KHTML, like Gecko) Chrome/73.0.3683.103 Safari/537.36'\n",
    "\n",
    "@threads(10)\n",
    "def Multithreads(url):\n",
    "    try:\n",
    "        return requests.get(url, headers=headers)\n",
    "    except:\n",
    "        pass"
   ]
  },
  {
   "cell_type": "code",
   "execution_count": 18,
   "id": "1c4f1937-0091-4542-a0c2-b0464b9fa544",
   "metadata": {},
   "outputs": [],
   "source": [
    "# https://news.tvbs.com.tw/news/searchresult/%E8%90%8A%E8%B1%AC/news/2\n",
    "\n",
    "links = []\n",
    "\n",
    "for i in range(1, 54, 1):\n",
    "    url = 'https://news.tvbs.com.tw/news/searchresult/%E8%90%8A%E8%B1%AC/news/{}'.format(i)\n",
    "    try:\n",
    "        rawdata = Multithreads(url)\n",
    "        time.sleep(random.uniform(1, 5))\n",
    "    except:\n",
    "        pass\n",
    "    soup = BeautifulSoup(rawdata.text, 'html.parser')\n",
    "    for i in soup.select(\"article div.list ul li\"):\n",
    "        link = i.find('a').get('href')\n",
    "        links.append(link)"
   ]
  },
  {
   "cell_type": "code",
   "execution_count": 158,
   "id": "8687c0fb-c9f0-4a4d-bccc-3446d56d330a",
   "metadata": {},
   "outputs": [
    {
     "data": {
      "text/plain": [
       "1325"
      ]
     },
     "execution_count": 158,
     "metadata": {},
     "output_type": "execute_result"
    }
   ],
   "source": [
    "len(links)"
   ]
  },
  {
   "cell_type": "code",
   "execution_count": 155,
   "id": "dc2e751d-27c7-4237-b947-dc0a66a94107",
   "metadata": {},
   "outputs": [],
   "source": [
    "link = 'https://news.tvbs.com.tw/local/1668785'\n",
    "rawdata = Multithreads(link)\n",
    "soup = BeautifulSoup(rawdata.text, 'html.parser')"
   ]
  },
  {
   "cell_type": "code",
   "execution_count": 159,
   "id": "373af41e-d28f-43da-af38-05c6d99819e0",
   "metadata": {
    "tags": []
   },
   "outputs": [
    {
     "name": "stdout",
     "output_type": "stream",
     "text": [
      "稱挺林昶佐攤商賣萊豬　網友涉加重誹謗等罪遭訴 2021-12-24 16:41:00 台北市東門市場張姓豬肉女攤商今年7月間在臉書專頁上為無黨籍立委林昶佐發聲，遭1名劉姓網友嗆聲賣萊豬，張女提告。台北地檢署今天依加重誹謗、妨害信用等罪起訴劉男。檢警調查，劉姓網友於7月3日在張女臉書（Facebook）粉絲專頁「采婕Charlene（東門信義肉舖）」留言表示，「豬肉妹、被起底，原來就是閃尿團隊的一員！閃尿那麼挺萊豬，妳賣的一定是萊豬！」張女提告加重誹謗等罪。劉男在偵訊時辯稱，當時政府已開放萊豬，賣萊豬並不犯法，他並非在說張女違法；另外，劉男認為，他質疑張女販賣萊豬屬合理評論。檢察官偵辦後認為，張女並非政治人物，不需要承受公眾檢視與質疑，張女肉攤有台灣豬認證，並沒有販售進口肉品，劉男言論帶有負面意涵的「閃尿」字眼，屬於情緒發言，並非合理評論，且影響張女商譽，將劉男依法起訴。（中央社）\n"
     ]
    }
   ],
   "source": [
    "title = re.sub('\\n|\\r|\\t|\\xa0', '', soup.find('h1', attrs={'class':'title'}).getText().strip())\n",
    "date = datetime.strptime(soup.find('meta', attrs={'property':'article:published_time'})['content'], '%Y-%m-%dT%H:%M:%S+08:00')\n",
    "content = \"\"\n",
    "target = soup.find('div', {'class':'article_content'})\n",
    "for child in target.find_all(class_ = 'guangxuan'):\n",
    "    child.decompose()\n",
    "content += re.sub('\\n|\\r|\\t|\\xa0|\\u3000', '', target.getText().strip())\n",
    "print(title, date, content)"
   ]
  },
  {
   "cell_type": "code",
   "execution_count": 160,
   "id": "4d8068f0-2bdc-41a8-9ea1-209e8d9520a1",
   "metadata": {},
   "outputs": [],
   "source": [
    "all_posts = []\n",
    "\n",
    "for link in links:\n",
    "    try:\n",
    "        response = Multithreads(link)\n",
    "        time.sleep(random.uniform(5, 10))\n",
    "        soup = BeautifulSoup(response.text, 'html.parser')\n",
    "        title = re.sub('\\n|\\r|\\t|\\xa0', '', soup.find('h1', attrs={'class':'title'}).getText().strip())\n",
    "        date = datetime.strptime(soup.find('meta', attrs={'property':'article:published_time'})['content'], '%Y-%m-%dT%H:%M:%S+08:00')\n",
    "        content = \"\"\n",
    "        target = soup.find('div', {'class':'article_content'})\n",
    "        for child in target.find_all(class_ = 'guangxuan'): # 移除class是guangxuan的tag\n",
    "            child.decompose()\n",
    "        content += re.sub('\\n|\\r|\\t|\\xa0|\\u3000', '', target.getText().strip())\n",
    "        \n",
    "        all_posts.append({'title':title, \n",
    "                          'date':date, \n",
    "                          'link':link, \n",
    "                          'content':content})\n",
    "    except:\n",
    "        pass"
   ]
  },
  {
   "cell_type": "code",
   "execution_count": 163,
   "id": "cba43224-95e4-4566-b60f-85158f7a97a0",
   "metadata": {},
   "outputs": [
    {
     "data": {
      "text/html": [
       "<div>\n",
       "<style scoped>\n",
       "    .dataframe tbody tr th:only-of-type {\n",
       "        vertical-align: middle;\n",
       "    }\n",
       "\n",
       "    .dataframe tbody tr th {\n",
       "        vertical-align: top;\n",
       "    }\n",
       "\n",
       "    .dataframe thead th {\n",
       "        text-align: right;\n",
       "    }\n",
       "</style>\n",
       "<table border=\"1\" class=\"dataframe\">\n",
       "  <thead>\n",
       "    <tr style=\"text-align: right;\">\n",
       "      <th></th>\n",
       "      <th>title</th>\n",
       "      <th>date</th>\n",
       "      <th>link</th>\n",
       "      <th>content</th>\n",
       "    </tr>\n",
       "  </thead>\n",
       "  <tbody>\n",
       "    <tr>\n",
       "      <th>0</th>\n",
       "      <td>謝長廷又請假不赴立院　藍委：偷回日本開放核災區食品？</td>\n",
       "      <td>2021-12-30 10:36:00</td>\n",
       "      <td>https://news.tvbs.com.tw/politics/1677426</td>\n",
       "      <td>1218四大公投案18日落幕，公投結果四案均不通過，外界關注開放萊豬後，下一步是否將面對日本...</td>\n",
       "    </tr>\n",
       "    <tr>\n",
       "      <th>1</th>\n",
       "      <td>吳釗燮稱核食為「福島食品」　王鴻薇酸：騙上癮</td>\n",
       "      <td>2021-12-26 10:14:00</td>\n",
       "      <td>https://news.tvbs.com.tw/politics/1669886</td>\n",
       "      <td>國民黨台北市議員王鴻薇昨在臉書表示，反萊豬公投未能過關，果不其然，日本核食加緊進逼台灣，包括...</td>\n",
       "    </tr>\n",
       "    <tr>\n",
       "      <th>2</th>\n",
       "      <td>萊豬攻防第二回合？　福島食品開放「經貿、食安」成焦點</td>\n",
       "      <td>2021-12-26 09:13:00</td>\n",
       "      <td>https://news.tvbs.com.tw/life/1669283</td>\n",
       "      <td>反萊豬公投結果「不同意票」多過「同意票」，民意展現台灣人在現行國際準則下，願意接受萊豬進口，...</td>\n",
       "    </tr>\n",
       "    <tr>\n",
       "      <th>3</th>\n",
       "      <td>林昶佐罷免投票倒數2週　媒體人：符合「這條件」一定過</td>\n",
       "      <td>2021-12-25 09:06:00</td>\n",
       "      <td>https://news.tvbs.com.tw/life/1669279</td>\n",
       "      <td>台中市第2選區、台灣基進立委陳柏惟遭罷免成功，接下來要面臨相同危機的就是台北市第5選區（中正...</td>\n",
       "    </tr>\n",
       "    <tr>\n",
       "      <th>4</th>\n",
       "      <td>只因林昶佐！豬肉公主遭嗆「閃尿團員」　怒告網友慘了</td>\n",
       "      <td>2021-12-24 19:31:00</td>\n",
       "      <td>https://news.tvbs.com.tw/local/1669006</td>\n",
       "      <td>台北市東門市場小有名氣的攤販張采婕，被顧客稱為「豬肉公主」，因過去多次在臉書替立委林昶佐發聲...</td>\n",
       "    </tr>\n",
       "    <tr>\n",
       "      <th>...</th>\n",
       "      <td>...</td>\n",
       "      <td>...</td>\n",
       "      <td>...</td>\n",
       "      <td>...</td>\n",
       "    </tr>\n",
       "    <tr>\n",
       "      <th>1320</th>\n",
       "      <td>萊豬即將進口　政府祭4年百億輔導產業升級</td>\n",
       "      <td>2020-10-07 15:44:00</td>\n",
       "      <td>https://news.tvbs.com.tw/politics/1396891</td>\n",
       "      <td>美豬叩關，農委會跟養豬產業會商要運用百億元預算輔導產業升級因應，但含使用農發基金在內不只百億...</td>\n",
       "    </tr>\n",
       "    <tr>\n",
       "      <th>1321</th>\n",
       "      <td>反放寬萊豬進高雄　藍黨團促陳其邁簽禁令</td>\n",
       "      <td>2020-10-07 13:08:00</td>\n",
       "      <td>https://news.tvbs.com.tw/politics/1396754</td>\n",
       "      <td>高雄市議會國民黨團反對政府放寬萊豬進口，今天黨團質詢時批評陳其邁昔日反萊克多巴胺，如今漠視人...</td>\n",
       "    </tr>\n",
       "    <tr>\n",
       "      <th>1322</th>\n",
       "      <td>美拒貿協？傳找藍溝通也避　綠才改「審萊豬」</td>\n",
       "      <td>2020-10-06 21:03:00</td>\n",
       "      <td>https://news.tvbs.com.tw/politics/1396430</td>\n",
       "      <td>蔡政府用行政命令，將開放含有「萊克多巴胺」的美豬進口，原本在立法院也只需要「備查」就好，但在...</td>\n",
       "    </tr>\n",
       "    <tr>\n",
       "      <th>1323</th>\n",
       "      <td>遭指食品安全打假球　綠委：藍提案誤導社會認知</td>\n",
       "      <td>2020-10-06 17:02:00</td>\n",
       "      <td>https://news.tvbs.com.tw/politics/1396315</td>\n",
       "      <td>國民黨立委昨天在立法院教育及文化委員會，提出禁止萊豬進入校園的提案，遭綠委否決。國民黨今天點...</td>\n",
       "    </tr>\n",
       "    <tr>\n",
       "      <th>1324</th>\n",
       "      <td>高市議會開議　國民黨把關預算擬萊豬零檢出</td>\n",
       "      <td>2020-10-05 15:07:00</td>\n",
       "      <td>https://news.tvbs.com.tw/politics/1395620</td>\n",
       "      <td>高雄市議會第3屆第4次定期大會明天開幕。面對市府新團隊，國民黨黨團新選出的總召蔡武宏今天表示...</td>\n",
       "    </tr>\n",
       "  </tbody>\n",
       "</table>\n",
       "<p>1325 rows × 4 columns</p>\n",
       "</div>"
      ],
      "text/plain": [
       "                           title                date  \\\n",
       "0     謝長廷又請假不赴立院　藍委：偷回日本開放核災區食品？ 2021-12-30 10:36:00   \n",
       "1         吳釗燮稱核食為「福島食品」　王鴻薇酸：騙上癮 2021-12-26 10:14:00   \n",
       "2     萊豬攻防第二回合？　福島食品開放「經貿、食安」成焦點 2021-12-26 09:13:00   \n",
       "3     林昶佐罷免投票倒數2週　媒體人：符合「這條件」一定過 2021-12-25 09:06:00   \n",
       "4      只因林昶佐！豬肉公主遭嗆「閃尿團員」　怒告網友慘了 2021-12-24 19:31:00   \n",
       "...                          ...                 ...   \n",
       "1320        萊豬即將進口　政府祭4年百億輔導產業升級 2020-10-07 15:44:00   \n",
       "1321         反放寬萊豬進高雄　藍黨團促陳其邁簽禁令 2020-10-07 13:08:00   \n",
       "1322       美拒貿協？傳找藍溝通也避　綠才改「審萊豬」 2020-10-06 21:03:00   \n",
       "1323      遭指食品安全打假球　綠委：藍提案誤導社會認知 2020-10-06 17:02:00   \n",
       "1324        高市議會開議　國民黨把關預算擬萊豬零檢出 2020-10-05 15:07:00   \n",
       "\n",
       "                                           link  \\\n",
       "0     https://news.tvbs.com.tw/politics/1677426   \n",
       "1     https://news.tvbs.com.tw/politics/1669886   \n",
       "2         https://news.tvbs.com.tw/life/1669283   \n",
       "3         https://news.tvbs.com.tw/life/1669279   \n",
       "4        https://news.tvbs.com.tw/local/1669006   \n",
       "...                                         ...   \n",
       "1320  https://news.tvbs.com.tw/politics/1396891   \n",
       "1321  https://news.tvbs.com.tw/politics/1396754   \n",
       "1322  https://news.tvbs.com.tw/politics/1396430   \n",
       "1323  https://news.tvbs.com.tw/politics/1396315   \n",
       "1324  https://news.tvbs.com.tw/politics/1395620   \n",
       "\n",
       "                                                content  \n",
       "0     1218四大公投案18日落幕，公投結果四案均不通過，外界關注開放萊豬後，下一步是否將面對日本...  \n",
       "1     國民黨台北市議員王鴻薇昨在臉書表示，反萊豬公投未能過關，果不其然，日本核食加緊進逼台灣，包括...  \n",
       "2     反萊豬公投結果「不同意票」多過「同意票」，民意展現台灣人在現行國際準則下，願意接受萊豬進口，...  \n",
       "3     台中市第2選區、台灣基進立委陳柏惟遭罷免成功，接下來要面臨相同危機的就是台北市第5選區（中正...  \n",
       "4     台北市東門市場小有名氣的攤販張采婕，被顧客稱為「豬肉公主」，因過去多次在臉書替立委林昶佐發聲...  \n",
       "...                                                 ...  \n",
       "1320  美豬叩關，農委會跟養豬產業會商要運用百億元預算輔導產業升級因應，但含使用農發基金在內不只百億...  \n",
       "1321  高雄市議會國民黨團反對政府放寬萊豬進口，今天黨團質詢時批評陳其邁昔日反萊克多巴胺，如今漠視人...  \n",
       "1322  蔡政府用行政命令，將開放含有「萊克多巴胺」的美豬進口，原本在立法院也只需要「備查」就好，但在...  \n",
       "1323  國民黨立委昨天在立法院教育及文化委員會，提出禁止萊豬進入校園的提案，遭綠委否決。國民黨今天點...  \n",
       "1324  高雄市議會第3屆第4次定期大會明天開幕。面對市府新團隊，國民黨黨團新選出的總召蔡武宏今天表示...  \n",
       "\n",
       "[1325 rows x 4 columns]"
      ]
     },
     "execution_count": 163,
     "metadata": {},
     "output_type": "execute_result"
    }
   ],
   "source": [
    "tvbs_politics = pd.DataFrame(all_posts)\n",
    "tvbs_politics = tvbs_politics.drop_duplicates(subset = ['link']).reset_index(drop = True)\n",
    "# tvbs_politics = tvbs_politics.sort_values('date', ascending = False).reset_index(drop = True)\n",
    "tvbs_politics"
   ]
  },
  {
   "cell_type": "code",
   "execution_count": 164,
   "id": "7634c683-4f9c-41b6-ba7f-3ac3c71f535d",
   "metadata": {},
   "outputs": [],
   "source": [
    "tvbs_politics.to_csv(\"tvbs_web01.csv\", index=False, encoding='UTF-8')"
   ]
  }
 ],
 "metadata": {
  "kernelspec": {
   "display_name": "Python 3 (ipykernel)",
   "language": "python",
   "name": "python3"
  },
  "language_info": {
   "codemirror_mode": {
    "name": "ipython",
    "version": 3
   },
   "file_extension": ".py",
   "mimetype": "text/x-python",
   "name": "python",
   "nbconvert_exporter": "python",
   "pygments_lexer": "ipython3",
   "version": "3.8.12"
  }
 },
 "nbformat": 4,
 "nbformat_minor": 5
}
