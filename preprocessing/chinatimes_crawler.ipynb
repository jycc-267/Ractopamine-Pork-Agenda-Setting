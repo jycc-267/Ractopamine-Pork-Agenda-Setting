{
 "cells": [
  {
   "cell_type": "code",
   "execution_count": 2,
   "id": "947805ae-d912-4e4d-9a65-7d65d959ff98",
   "metadata": {},
   "outputs": [],
   "source": [
    "import requests\n",
    "from bs4 import BeautifulSoup\n",
    "from fake_useragent import UserAgent\n",
    "from tomorrow import threads\n",
    "from datetime import datetime\n",
    "import time\n",
    "import re\n",
    "import random\n",
    "import pandas as pd"
   ]
  },
  {
   "cell_type": "code",
   "execution_count": 3,
   "id": "6f5391c4-42d9-4f54-a49b-6b92276f11a7",
   "metadata": {},
   "outputs": [],
   "source": [
    "ua = UserAgent()\n",
    "headers = {'User-Agent': ua.random}\n",
    "# 'Mozilla/5.0 (Windows NT 10.0; Win64; x64) AppleWebKit/537.36 (KHTML, like Gecko) Chrome/73.0.3683.103 Safari/537.36'\n",
    "\n",
    "@threads(10)\n",
    "def Multithreads(url):\n",
    "    try:\n",
    "        return requests.get(url, headers=headers)\n",
    "    except:\n",
    "        pass"
   ]
  },
  {
   "cell_type": "code",
   "execution_count": 4,
   "id": "31939028-c554-4cef-9105-1487e4ac000c",
   "metadata": {},
   "outputs": [],
   "source": [
    "# https://www.chinatimes.com/search/%E8%90%8A%E8%B1%AC?page=2&chdtv\n",
    "\n",
    "links = []\n",
    "\n",
    "for i in range(1, 176, 1):\n",
    "    url = 'https://www.chinatimes.com/search/%E8%90%8A%E8%B1%AC?page={}'.format(i)\n",
    "    try:\n",
    "        rawdata = Multithreads(url)\n",
    "        time.sleep(random.uniform(1, 5))\n",
    "    except:\n",
    "        pass\n",
    "    soup = BeautifulSoup(rawdata.text, 'html.parser')\n",
    "    for i in soup.find_all('h3'):\n",
    "        link = i.find('a')['href']\n",
    "        links.append(link)"
   ]
  },
  {
   "cell_type": "code",
   "execution_count": 9,
   "id": "b0b660c3-71f7-4b35-8af5-dcf1b18c82f7",
   "metadata": {},
   "outputs": [
    {
     "name": "stdout",
     "output_type": "stream",
     "text": [
      "3500\n"
     ]
    }
   ],
   "source": [
    "pork = []\n",
    "\n",
    "# for link in links:\n",
    "#     if \"news\" in link:\n",
    "#         pork.append(link)\n",
    "print(len(links))"
   ]
  },
  {
   "cell_type": "code",
   "execution_count": 6,
   "id": "65c58578-10ec-4b9c-ac07-41fc232025e4",
   "metadata": {},
   "outputs": [],
   "source": [
    "url = 'https://www.chinatimes.com/realtimenews/20211213002003-260407'\n",
    "response = Multithreads(url)\n",
    "soup = BeautifulSoup(response.text, 'html.parser')"
   ]
  },
  {
   "cell_type": "code",
   "execution_count": 7,
   "id": "917b1481-b838-464d-8b3c-868ed7c35fbb",
   "metadata": {},
   "outputs": [
    {
     "name": "stdout",
     "output_type": "stream",
     "text": [
      "林耕仁全力拼四個都同意 2021-12-13 12:04:17 1218四大公投剩下不到一週，藍綠兩陣營無不卯足全力宣講公投，民進黨砸下大量資源在全台各地舉辦高檔次公投說明會，國民黨也在各地拼公投，而甫在國民黨新竹市長黨內初選出線的林耕仁更是竭盡全力宣傳公投必需四個同意，希望公投同意票數能在新竹市開出紅盤。林耕仁號召同黨議員，在新竹市各區搭建起「四個同意、就是民意」看板，與所有國民黨籍議員聯合宣傳公投。林耕仁表示，1218公投結果將決定台灣未來的發展，是選擇安全穩定的生活，還是動盪不健康的日子，四個公投同意票，就能讓人民不用擔心萊豬、有穩定能源、確保公投權利、及守護藻礁生態環境。林耕仁也批評，蔡政府不但背棄過去的主張，更是不願傾聽人民意見，四項公投議題，民進黨立場反覆不定。以前堅決反對萊豬，現在卻主動同意開放，出賣台灣人健康；推動公投更是民進黨一路以來的神主牌，如今閹割公投讓公投跟大選脫鉤，讓民主開倒車。保護藻礁也是一場騙局，蔡總統以為寫下藻礁永存就真的保護了嗎？三接興建過程中明顯就有破壞藻礁，媒體報導卻被蘇貞昌罵是假消息；最後重啟核四就是戳破蔡政府錯誤能源政策，台灣人不願過上跳電缺電停電的動盪生活。林耕仁除了在各區放上聯合看板之外，日前新竹市黨部辦理的機車大遊行，也看見林耕仁在宣傳車上全程宣講，繞行整體市區。林耕仁也表示將全力衝刺，最後一週將透過宣講的民主戰車，在新竹市各地進行公投宣講，呼籲新竹市民1218一定要出來投下五張同意票，因為除了全國四公投議題外，新竹市另有地方喝好水公投，這票也是同意。公投最後階段藍營地方全力動員，國民黨新竹市長參選人林耕仁在議長許修睿和副議長余邦彥支持下儼然成為藍軍領頭羊，率領藍軍團結希望公投同意票，能在新竹市開出大勝的票數。\n"
     ]
    }
   ],
   "source": [
    "soup\n",
    "title = soup.find('h1', attrs={'class':'article-title'}).text\n",
    "date = datetime.strptime(soup.find('meta', attrs={'property':'article:published_time'})['content'],'%Y-%m-%dT%H:%M:%S+08:00')\n",
    "content = \"\"\n",
    "for p in soup.find('div',attrs={'class':'article-body'}).find_all('p'):\n",
    "    content += re.sub('\\n|\\r', '', p.getText().strip())\n",
    "print(title, date, content)"
   ]
  },
  {
   "cell_type": "code",
   "execution_count": 10,
   "id": "62275af9-100a-4f55-b20e-a5a6e97fcd13",
   "metadata": {},
   "outputs": [],
   "source": [
    "all_posts = []\n",
    "\n",
    "for link in links:\n",
    "    try:\n",
    "        response = Multithreads(link)\n",
    "        time.sleep(random.uniform(5, 10))\n",
    "        soup = BeautifulSoup(response.text, 'html.parser')\n",
    "        title = soup.find('h1', attrs={'class':'article-title'}).text\n",
    "        date = datetime.strptime(soup.find('meta', attrs={'property':'article:published_time'})['content'],'%Y-%m-%dT%H:%M:%S+08:00')\n",
    "        content = \"\"\n",
    "        for p in soup.find('div',attrs={'class':'article-body'}).find_all('p'):\n",
    "            content += re.sub('\\n|\\r', '', p.getText().strip())\n",
    "        all_posts.append({'title':title, \n",
    "                          'date':date, \n",
    "                          'link':link, \n",
    "                          'content':content})\n",
    "    except:\n",
    "        pass"
   ]
  },
  {
   "cell_type": "code",
   "execution_count": 12,
   "id": "db779b45-9b38-4ba9-8e9f-0f9d1489abb1",
   "metadata": {},
   "outputs": [
    {
     "data": {
      "text/html": [
       "<div>\n",
       "<style scoped>\n",
       "    .dataframe tbody tr th:only-of-type {\n",
       "        vertical-align: middle;\n",
       "    }\n",
       "\n",
       "    .dataframe tbody tr th {\n",
       "        vertical-align: top;\n",
       "    }\n",
       "\n",
       "    .dataframe thead th {\n",
       "        text-align: right;\n",
       "    }\n",
       "</style>\n",
       "<table border=\"1\" class=\"dataframe\">\n",
       "  <thead>\n",
       "    <tr style=\"text-align: right;\">\n",
       "      <th></th>\n",
       "      <th>title</th>\n",
       "      <th>date</th>\n",
       "      <th>link</th>\n",
       "      <th>content</th>\n",
       "    </tr>\n",
       "  </thead>\n",
       "  <tbody>\n",
       "    <tr>\n",
       "      <th>0</th>\n",
       "      <td>蘇偉碩反萊豬又收傳票 羅智強送執政者2句話：何必殺絕</td>\n",
       "      <td>2022-01-04 12:14:24</td>\n",
       "      <td>https://www.chinatimes.com/realtimenews/202201...</td>\n",
       "      <td>反萊豬公投闖關失利，而主張反萊豬的醫師蘇偉碩又收到法院傳票，他透露，公投後不久就收到高雄地檢...</td>\n",
       "    </tr>\n",
       "    <tr>\n",
       "      <th>1</th>\n",
       "      <td>反萊豬公投後再收傳票！蘇偉碩痛批：國家暴力</td>\n",
       "      <td>2022-01-04 11:22:56</td>\n",
       "      <td>https://www.chinatimes.com/realtimenews/202201...</td>\n",
       "      <td>反萊豬公投闖關失利，未料主張反萊豬的醫師蘇偉碩透露，公投後不久又收到高雄地檢署傳票，預計1月...</td>\n",
       "    </tr>\n",
       "    <tr>\n",
       "      <th>2</th>\n",
       "      <td>練鴻慶快評》于北辰看看侯友宜</td>\n",
       "      <td>2022-01-02 13:19:16</td>\n",
       "      <td>https://www.chinatimes.com/opinion/20220102001...</td>\n",
       "      <td>于北辰將軍退出國民黨，讓人遺憾；回想侯友宜曾多次被民進黨拉攏，不為所動，背後原因值得于將軍三...</td>\n",
       "    </tr>\n",
       "    <tr>\n",
       "      <th>3</th>\n",
       "      <td>分析今年蔡政府施政基調 蘇偉碩：反中依舊是門好生意</td>\n",
       "      <td>2022-01-02 11:21:01</td>\n",
       "      <td>https://www.chinatimes.com/realtimenews/202201...</td>\n",
       "      <td>隨著進入2022年，全球通貨膨脹、福島食品進口、年末直轄縣市長選舉都讓今年充滿諸多變數，醫師...</td>\n",
       "    </tr>\n",
       "    <tr>\n",
       "      <th>4</th>\n",
       "      <td>萊豬vs.日本核食 順逆差很大</td>\n",
       "      <td>2021-12-31 04:10:00</td>\n",
       "      <td>https://www.chinatimes.com/newspapers/20211231...</td>\n",
       "      <td>開放日本核食，日本政界再透過外媒放話施壓，轟台灣卡關福島5縣市農產品，本質跟中國一樣，稱不上...</td>\n",
       "    </tr>\n",
       "    <tr>\n",
       "      <th>...</th>\n",
       "      <td>...</td>\n",
       "      <td>...</td>\n",
       "      <td>...</td>\n",
       "      <td>...</td>\n",
       "    </tr>\n",
       "    <tr>\n",
       "      <th>3493</th>\n",
       "      <td>美豬開放爭議不斷 農委會主委陳吉仲：概括承受</td>\n",
       "      <td>2020-09-01 21:34:15</td>\n",
       "      <td>https://www.chinatimes.com/realtimenews/202009...</td>\n",
       "      <td>總統蔡英文28日奇襲式宣布含萊克多巴胺(Ractopamine)美豬明年元旦開放進口，國人食...</td>\n",
       "    </tr>\n",
       "    <tr>\n",
       "      <th>3494</th>\n",
       "      <td>誰吞得下民進黨瘦肉精</td>\n",
       "      <td>2020-08-31 04:10:00</td>\n",
       "      <td>https://www.chinatimes.com/newspapers/20200831...</td>\n",
       "      <td>民進黨政府28日突然宣布開放含萊克多巴胺（瘦肉精）的美豬（以下簡稱萊豬），和30月齡以上的美...</td>\n",
       "    </tr>\n",
       "    <tr>\n",
       "      <th>3495</th>\n",
       "      <td>彭蕙仙》誰吞得下民進黨瘦肉精</td>\n",
       "      <td>2020-08-30 19:29:44</td>\n",
       "      <td>https://www.chinatimes.com/opinion/20200830003...</td>\n",
       "      <td>民進黨政府28日突然宣布開放含萊克多巴胺（瘦肉精）的美豬（以下簡稱萊豬），和30月齡以上的美...</td>\n",
       "    </tr>\n",
       "    <tr>\n",
       "      <th>3496</th>\n",
       "      <td>陳吉仲7點說明美豬進口 孫大千提7大矛盾轟：史上最瞎</td>\n",
       "      <td>2020-08-30 12:03:59</td>\n",
       "      <td>https://www.chinatimes.com/realtimenews/202008...</td>\n",
       "      <td>蔡英文總統28日宣布，開放含「萊克多巴胺」美國豬肉及30月齡以上的美國牛肉進口，引發不小爭議...</td>\n",
       "    </tr>\n",
       "    <tr>\n",
       "      <th>3497</th>\n",
       "      <td>瘦肉精美豬進口 網友嗆不吃的都是韓粉</td>\n",
       "      <td>2020-08-29 19:14:29</td>\n",
       "      <td>https://www.chinatimes.com/realtimenews/202008...</td>\n",
       "      <td>民進黨政府宣布將開放含萊克多巴胺的美國豬肉及30月齡以上的美國牛肉進口，農委會主委陳吉仲在臉...</td>\n",
       "    </tr>\n",
       "  </tbody>\n",
       "</table>\n",
       "<p>3498 rows × 4 columns</p>\n",
       "</div>"
      ],
      "text/plain": [
       "                           title                date  \\\n",
       "0     蘇偉碩反萊豬又收傳票 羅智強送執政者2句話：何必殺絕 2022-01-04 12:14:24   \n",
       "1          反萊豬公投後再收傳票！蘇偉碩痛批：國家暴力 2022-01-04 11:22:56   \n",
       "2                 練鴻慶快評》于北辰看看侯友宜 2022-01-02 13:19:16   \n",
       "3      分析今年蔡政府施政基調 蘇偉碩：反中依舊是門好生意 2022-01-02 11:21:01   \n",
       "4                萊豬vs.日本核食 順逆差很大 2021-12-31 04:10:00   \n",
       "...                          ...                 ...   \n",
       "3493      美豬開放爭議不斷 農委會主委陳吉仲：概括承受 2020-09-01 21:34:15   \n",
       "3494                  誰吞得下民進黨瘦肉精 2020-08-31 04:10:00   \n",
       "3495              彭蕙仙》誰吞得下民進黨瘦肉精 2020-08-30 19:29:44   \n",
       "3496  陳吉仲7點說明美豬進口 孫大千提7大矛盾轟：史上最瞎 2020-08-30 12:03:59   \n",
       "3497          瘦肉精美豬進口 網友嗆不吃的都是韓粉 2020-08-29 19:14:29   \n",
       "\n",
       "                                                   link  \\\n",
       "0     https://www.chinatimes.com/realtimenews/202201...   \n",
       "1     https://www.chinatimes.com/realtimenews/202201...   \n",
       "2     https://www.chinatimes.com/opinion/20220102001...   \n",
       "3     https://www.chinatimes.com/realtimenews/202201...   \n",
       "4     https://www.chinatimes.com/newspapers/20211231...   \n",
       "...                                                 ...   \n",
       "3493  https://www.chinatimes.com/realtimenews/202009...   \n",
       "3494  https://www.chinatimes.com/newspapers/20200831...   \n",
       "3495  https://www.chinatimes.com/opinion/20200830003...   \n",
       "3496  https://www.chinatimes.com/realtimenews/202008...   \n",
       "3497  https://www.chinatimes.com/realtimenews/202008...   \n",
       "\n",
       "                                                content  \n",
       "0     反萊豬公投闖關失利，而主張反萊豬的醫師蘇偉碩又收到法院傳票，他透露，公投後不久就收到高雄地檢...  \n",
       "1     反萊豬公投闖關失利，未料主張反萊豬的醫師蘇偉碩透露，公投後不久又收到高雄地檢署傳票，預計1月...  \n",
       "2     于北辰將軍退出國民黨，讓人遺憾；回想侯友宜曾多次被民進黨拉攏，不為所動，背後原因值得于將軍三...  \n",
       "3     隨著進入2022年，全球通貨膨脹、福島食品進口、年末直轄縣市長選舉都讓今年充滿諸多變數，醫師...  \n",
       "4     開放日本核食，日本政界再透過外媒放話施壓，轟台灣卡關福島5縣市農產品，本質跟中國一樣，稱不上...  \n",
       "...                                                 ...  \n",
       "3493  總統蔡英文28日奇襲式宣布含萊克多巴胺(Ractopamine)美豬明年元旦開放進口，國人食...  \n",
       "3494  民進黨政府28日突然宣布開放含萊克多巴胺（瘦肉精）的美豬（以下簡稱萊豬），和30月齡以上的美...  \n",
       "3495  民進黨政府28日突然宣布開放含萊克多巴胺（瘦肉精）的美豬（以下簡稱萊豬），和30月齡以上的美...  \n",
       "3496  蔡英文總統28日宣布，開放含「萊克多巴胺」美國豬肉及30月齡以上的美國牛肉進口，引發不小爭議...  \n",
       "3497  民進黨政府宣布將開放含萊克多巴胺的美國豬肉及30月齡以上的美國牛肉進口，農委會主委陳吉仲在臉...  \n",
       "\n",
       "[3498 rows x 4 columns]"
      ]
     },
     "execution_count": 12,
     "metadata": {},
     "output_type": "execute_result"
    }
   ],
   "source": [
    "chinatimes_politics = pd.DataFrame(all_posts)\n",
    "chinatimes_politics = chinatimes_politics.drop_duplicates(subset = ['link']).reset_index(drop = True)\n",
    "# chinatimes_politics = chinatimes_politics.iloc[0:3483, :].sort_values('date', ascending = False).reset_index(drop = True)\n",
    "chinatimes_politics"
   ]
  },
  {
   "cell_type": "code",
   "execution_count": 13,
   "id": "9367c844-5063-4668-80b2-370df561d593",
   "metadata": {},
   "outputs": [],
   "source": [
    "chinatimes_politics.to_csv(\"chinatimes_20200829_20220104.csv\", index=False, encoding='UTF-8')"
   ]
  }
 ],
 "metadata": {
  "kernelspec": {
   "display_name": "Python 3 (ipykernel)",
   "language": "python",
   "name": "python3"
  },
  "language_info": {
   "codemirror_mode": {
    "name": "ipython",
    "version": 3
   },
   "file_extension": ".py",
   "mimetype": "text/x-python",
   "name": "python",
   "nbconvert_exporter": "python",
   "pygments_lexer": "ipython3",
   "version": "3.8.12"
  }
 },
 "nbformat": 4,
 "nbformat_minor": 5
}
